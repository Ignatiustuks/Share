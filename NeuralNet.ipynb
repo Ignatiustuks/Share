{
 "cells": [
  {
   "cell_type": "code",
   "execution_count": 1,
   "metadata": {
    "execution": {
     "iopub.execute_input": "2022-06-06T15:46:58.284248Z",
     "iopub.status.busy": "2022-06-06T15:46:58.283813Z",
     "iopub.status.idle": "2022-06-06T15:46:58.862955Z",
     "shell.execute_reply": "2022-06-06T15:46:58.862040Z",
     "shell.execute_reply.started": "2022-06-06T15:46:58.284217Z"
    }
   },
   "outputs": [],
   "source": [
    "import numpy as np\n",
    "from copy import deepcopy\n",
    "import pandas as pd\n",
    "from numpy import log10, linspace, array, zeros, append, std, asarray, vstack, exp, zeros_like, arange, dot\n",
    "import matplotlib.pyplot as plt\n",
    "from math import log\n",
    "import sympy as sp\n",
    "from numpy.linalg import inv"
   ]
  },
  {
   "cell_type": "code",
   "execution_count": 2,
   "metadata": {
    "execution": {
     "iopub.execute_input": "2022-06-06T15:30:56.684127Z",
     "iopub.status.busy": "2022-06-06T15:30:56.683307Z",
     "iopub.status.idle": "2022-06-06T15:30:56.721561Z",
     "shell.execute_reply": "2022-06-06T15:30:56.719116Z",
     "shell.execute_reply.started": "2022-06-06T15:30:56.684070Z"
    }
   },
   "outputs": [],
   "source": [
    "data = pd.read_csv('ClassificationDataset.csv')"
   ]
  },
  {
   "cell_type": "code",
   "execution_count": 3,
   "metadata": {
    "execution": {
     "iopub.execute_input": "2022-06-06T15:35:21.315926Z",
     "iopub.status.busy": "2022-06-06T15:35:21.315547Z",
     "iopub.status.idle": "2022-06-06T15:35:21.329579Z",
     "shell.execute_reply": "2022-06-06T15:35:21.328862Z",
     "shell.execute_reply.started": "2022-06-06T15:35:21.315898Z"
    }
   },
   "outputs": [],
   "source": [
    "datums_train = array(data['Class'][0:990])\n",
    "datums_test = array(data['Class'][990:1000])\n",
    "inputs_train = array(data.drop(columns=['Class']))[0:990, :]\n",
    "inputs_test = array(data.drop(columns=['Class']))[990:1000, :].T\n",
    "\n",
    "outputs_train = zeros(shape=(1, 990))\n",
    "for i, d in enumerate(datums_train):\n",
    "    if d == 'A':\n",
    "        outputs_train[0, i] = 1\n",
    "    else:\n",
    "        outputs_train[0, i] = 0\n",
    "    \n",
    "outputs = vstack([outputs_train, abs(outputs_train[0]-1)])\n",
    "inputs = inputs_train.T"
   ]
  },
  {
   "cell_type": "code",
   "execution_count": 4,
   "metadata": {
    "execution": {
     "iopub.execute_input": "2022-06-06T15:35:44.310098Z",
     "iopub.status.busy": "2022-06-06T15:35:44.309635Z",
     "iopub.status.idle": "2022-06-06T15:35:44.342034Z",
     "shell.execute_reply": "2022-06-06T15:35:44.340969Z",
     "shell.execute_reply.started": "2022-06-06T15:35:44.310062Z"
    }
   },
   "outputs": [],
   "source": [
    "class Neural_Network():\n",
    "    def __init__(self, network_array): \n",
    "        \n",
    "        no_of_layers = len(network_array)\n",
    "        bias_array = zeros(shape=(1, int(no_of_layers - 1)))[0]\n",
    "        \n",
    "        self.no_of_layers = no_of_layers\n",
    "        self.bias_array = bias_array\n",
    "        self.network_array = network_array\n",
    "        \n",
    "        # make a blank net in dictionary form\n",
    "        \n",
    "        blank_net = {}\n",
    "        for layer in arange(1,no_of_layers):\n",
    "            no_of_nodes = network_array[layer]\n",
    "            weights_per_node = network_array[int(layer-1)]\n",
    "        \n",
    "            Nodes_dict = {'B': bias_array[int(layer-1)]}\n",
    "            for node in arange(no_of_nodes)+1:\n",
    "                act = np.random.rand()\n",
    "                Nodes_dict['N{0}'.format(node)] = {'A': act, 'Z': 0, 'W': [1]*weights_per_node}\n",
    "  \n",
    "            blank_net['L{0}'.format(layer)] = deepcopy(Nodes_dict)\n",
    "            \n",
    "        self.blank_net = blank_net\n",
    "        \n",
    "        \n",
    "    # functions applied   \n",
    "        \n",
    "    def std(self, z):\n",
    "        zs = zeros_like(z)\n",
    "        for i, zi in enumerate(z.T[0]):\n",
    "            if zi >= 100:\n",
    "                zs[i, 0] = 1\n",
    "            elif zi <= -100:\n",
    "                zs[i, 0] = 0\n",
    "            else:\n",
    "                zs[i, 0] = 1/(1 + np.exp(-zi))\n",
    "        return zs\n",
    "    \n",
    "    def dirr_std(self, z):\n",
    "        zs = zeros_like(z)\n",
    "        for i, zi in enumerate(z.T[0]):\n",
    "            if zi >= 100:\n",
    "                zs[i, 0] = 0\n",
    "            elif zi <= -100:\n",
    "                zs[i, 0] = 0\n",
    "            else:\n",
    "                zs[i, 0] = np.exp(-zi)/(1 + np.exp(-zi))**2\n",
    "        return zs\n",
    "    \n",
    "    def output_func(self, y):\n",
    "        for i, yi in enumerate(y.T[0]):\n",
    "            if yi >= 100:\n",
    "                y[i, 0] = 100\n",
    "            elif yi <= -100:\n",
    "                y[i, 0] = -100\n",
    "        return np.exp(y)/(sum(np.exp(y)))\n",
    "        \n",
    "        \n",
    "    # removes dictionary neural net properties in standard matrix forms    \n",
    "        \n",
    "    def dict_extract(self, layer_number, neural_net):\n",
    "        NN = deepcopy(neural_net)\n",
    "        Li = 'L{0}'.format(layer_number)\n",
    "        no_of_nodes = self.network_array[layer_number]\n",
    "        no_of_weights = self.network_array[int(layer_number-1)]\n",
    "            \n",
    "        B = NN[Li]['B']\n",
    "        A = zeros(shape=(no_of_nodes, 1))\n",
    "        Z = zeros(shape=(no_of_nodes, 1))\n",
    "        W = zeros(shape=(no_of_nodes, no_of_weights))\n",
    "        for node in arange(no_of_nodes)+1:\n",
    "            A[int(node-1),0] = NN[Li]['N{0}'.format(node)]['A']\n",
    "            Z[int(node-1),0] = NN[Li]['N{0}'.format(node)]['Z']\n",
    "            W[int(node-1),:] = NN[Li]['N{0}'.format(node)]['W']\n",
    "                \n",
    "        return A, Z, W, B\n",
    "    \n",
    "    \n",
    "    # returns matrix to neural net dictionary form\n",
    "    \n",
    "    def dict_compile(self, A, Z, W, B, layer_number, neural_net):\n",
    "        NN = deepcopy(neural_net)\n",
    "        Li = 'L{0}'.format(layer_number)\n",
    "        no_of_nodes = self.network_array[layer_number]\n",
    "        no_of_weights = self.network_array[int(layer_number-1)]\n",
    "    \n",
    "        NN[Li]['B'] = B\n",
    "        for node in arange(no_of_nodes)+1:\n",
    "            NN[Li]['N{0}'.format(node)]['A'] = A[int(node-1),0]\n",
    "            NN[Li]['N{0}'.format(node)]['Z'] = Z[int(node-1),0]\n",
    "            NN[Li]['N{0}'.format(node)]['W'] = list(W[int(node-1),:])\n",
    "            \n",
    "        return NN\n",
    "    \n",
    "    \n",
    "    # returns the output of the neural net dictionary \n",
    "    \n",
    "    def output(self, neural_net):\n",
    "        NN = deepcopy(neural_net)\n",
    "        no_of_nodes = self.network_array[-1]\n",
    "        \n",
    "        YA = zeros(shape=(no_of_nodes, 1))\n",
    "        for node in arange(no_of_nodes)+1:\n",
    "            YA[int(node-1), 0] = NN['L{0}'.format(int(self.no_of_layers-1))]['N{0}'.format(node)]['A']\n",
    "        \n",
    "        return YA\n",
    "    \n",
    "        \n",
    "    def fore_prop(self, x, neural_net):\n",
    "        A0 = x\n",
    "            \n",
    "        NN = deepcopy(neural_net)\n",
    "            \n",
    "        for layer in arange(1,self.no_of_layers):\n",
    "            no_of_nodes = self.network_array[layer]\n",
    "            weights_per_node = self.network_array[int(layer-1)]\n",
    "            \n",
    "            A1, Z1, W1, B1 = self.dict_extract(layer, NN)\n",
    "            Z1 = dot(W1, A0) + B1\n",
    "            A1 = self.std(Z1)\n",
    "            A0 = A1\n",
    "            \n",
    "            NN = self.dict_compile(A1, Z1, W1, B1, layer, NN)\n",
    "            \n",
    "        return NN\n",
    "    \n",
    "    \n",
    "    \n",
    "    def back_prop(self, x, y, neural_net, alpha):\n",
    "        NN = deepcopy(neural_net)\n",
    "        \n",
    "        dZ = self.output(NN) - y\n",
    "        for layer in np.flip(arange(1,self.no_of_layers)):\n",
    "            \n",
    "            if layer == 1:\n",
    "                A1, Z1, W1, B1 = self.dict_extract(layer, NN)\n",
    "                dW = dot(dZ, x.T)\n",
    "                dB = sum(dZ)\n",
    "\n",
    "                W1 -= alpha*dW\n",
    "                B1 -= alpha*dB\n",
    "\n",
    "                NN = self.dict_compile(A1, Z1, W1, B1, layer, NN)\n",
    "                \n",
    "            else:\n",
    "                A0, Z0 = self.dict_extract(int(layer-1), NN)[0:2]\n",
    "                A1, Z1, W1, B1 = self.dict_extract(int(layer), NN)\n",
    "                dW = dot(dZ, A0.T)\n",
    "                dB = sum(dZ)\n",
    "                dZ = dot(W1.T, dZ)*self.dirr_std(Z0)\n",
    "\n",
    "                W1 -= alpha*dW\n",
    "                B1 -= alpha*dB\n",
    "\n",
    "                NN = self.dict_compile(A1, Z1, W1, B1, layer, NN)\n",
    "            \n",
    "        return NN\n",
    "            \n",
    "    \n",
    "    \n",
    "    def train(self, X, Y, trials, alpha):\n",
    "        \n",
    "        no_of_inputs, no_of_sets = X.shape\n",
    "        NN = self.blank_net\n",
    "        \n",
    "        for trial in range(trials):\n",
    "            for i in range(no_of_sets):\n",
    "                x = array([X[:, i]]).T\n",
    "                y = array([Y[:, i]]).T\n",
    "                NN = self.fore_prop(x, NN)\n",
    "                NN = self.back_prop(x, y, NN, alpha)\n",
    "                \n",
    "        return NN\n",
    "    \n",
    "    \n",
    "    \n",
    "    def predict(self, x, trained_net):\n",
    "        NN = deepcopy(trained_net)\n",
    "        NN = self.fore_prop(x, NN)\n",
    "        \n",
    "        return self.output(NN)\n",
    "    "
   ]
  },
  {
   "cell_type": "code",
   "execution_count": 5,
   "metadata": {
    "execution": {
     "iopub.execute_input": "2022-06-06T15:37:57.803677Z",
     "iopub.status.busy": "2022-06-06T15:37:57.802627Z",
     "iopub.status.idle": "2022-06-06T15:38:03.614187Z",
     "shell.execute_reply": "2022-06-06T15:38:03.613502Z",
     "shell.execute_reply.started": "2022-06-06T15:37:57.803639Z"
    }
   },
   "outputs": [],
   "source": [
    "net = array([10, 2])\n",
    "nn = Neural_Network(net)\n",
    "tn = nn.train(inputs, outputs, 10, 0.1)"
   ]
  },
  {
   "cell_type": "code",
   "execution_count": 6,
   "metadata": {
    "execution": {
     "iopub.execute_input": "2022-06-06T15:56:19.264266Z",
     "iopub.status.busy": "2022-06-06T15:56:19.263794Z",
     "iopub.status.idle": "2022-06-06T15:56:19.279013Z",
     "shell.execute_reply": "2022-06-06T15:56:19.277945Z",
     "shell.execute_reply.started": "2022-06-06T15:56:19.264230Z"
    }
   },
   "outputs": [
    {
     "name": "stdout",
     "output_type": "stream",
     "text": [
      "correct!\n",
      "correct!\n",
      "correct!\n",
      "correct!\n",
      "correct!\n",
      "correct!\n",
      "correct!\n",
      "correct!\n",
      "correct!\n",
      "correct!\n"
     ]
    }
   ],
   "source": [
    "# test\n",
    "\n",
    "for entry in range(10): \n",
    "\n",
    "    test_input = array([inputs_test[:, entry]]).T\n",
    "    test_output = array([datums_test[entry]])[0]\n",
    "\n",
    "    ans = nn.predict(test_input, tn)\n",
    "    if ans[0, 0] > ans[1, 0]:\n",
    "        result = 'A'\n",
    "    else:\n",
    "        result = 'B'\n",
    "\n",
    "    if result == test_output:\n",
    "        print('correct!')\n",
    "    else:\n",
    "        print('wrong!')"
   ]
  },
  {
   "cell_type": "code",
   "execution_count": 7,
   "metadata": {
    "execution": {
     "iopub.execute_input": "2022-06-06T15:39:19.731535Z",
     "iopub.status.busy": "2022-06-06T15:39:19.731123Z",
     "iopub.status.idle": "2022-06-06T15:39:19.739275Z",
     "shell.execute_reply": "2022-06-06T15:39:19.738338Z",
     "shell.execute_reply.started": "2022-06-06T15:39:19.731503Z"
    }
   },
   "outputs": [
    {
     "data": {
      "text/plain": [
       "{'L1': {'B': array([-8.38371387e-05]),\n",
       "  'N1': {'A': 0.9342617748644988,\n",
       "   'Z': 2.654076102205382,\n",
       "   'W': [4.0298394905767525,\n",
       "    -5.496367996031555,\n",
       "    -3.6448469149344813,\n",
       "    1.688789586482761,\n",
       "    0.22722953878640798,\n",
       "    0.5139875131125937,\n",
       "    -0.28621114632342176,\n",
       "    2.222709749182514,\n",
       "    0.6960745181047394,\n",
       "    4.1901498731902835]},\n",
       "  'N2': {'A': 0.0663323847854555,\n",
       "   'Z': -2.6444422662925557,\n",
       "   'W': [-4.017932810150583,\n",
       "    5.482320299848183,\n",
       "    3.635222786930705,\n",
       "    -1.6857208407142468,\n",
       "    -0.22681552692807802,\n",
       "    -0.5115581540000408,\n",
       "    0.28564078963947936,\n",
       "    -2.217059538400168,\n",
       "    -0.6932822772886625,\n",
       "    -4.178379652647894]}}}"
      ]
     },
     "execution_count": 7,
     "metadata": {},
     "output_type": "execute_result"
    }
   ],
   "source": [
    "tn"
   ]
  },
  {
   "cell_type": "code",
   "execution_count": null,
   "metadata": {},
   "outputs": [],
   "source": []
  }
 ],
 "metadata": {
  "kernelspec": {
   "display_name": "Python 3 (ipykernel)",
   "language": "python",
   "name": "python3"
  },
  "language_info": {
   "codemirror_mode": {
    "name": "ipython",
    "version": 3
   },
   "file_extension": ".py",
   "mimetype": "text/x-python",
   "name": "python",
   "nbconvert_exporter": "python",
   "pygments_lexer": "ipython3",
   "version": "3.9.12"
  }
 },
 "nbformat": 4,
 "nbformat_minor": 4
}
