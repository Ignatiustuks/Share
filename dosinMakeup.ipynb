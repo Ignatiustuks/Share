{
 "cells": [
  {
   "cell_type": "markdown",
   "metadata": {},
   "source": [
    "## Hydroponic optimization strategies for simultanious nutrient and pH control"
   ]
  },
  {
   "cell_type": "markdown",
   "metadata": {},
   "source": [
    "#### Hydroponic nutriet pollution results from frequent replacement of the nutrient solution as dictated by nutrient depletion and inert buildup. This can be minimized by controlling the nutrient concentrations at constant levels and avoiding the addition of inert species such as Na and Cl. Nutrient concentration control can be easily accomplished through the use of EC, but limiting the addition of inert species is tricky. This is partly due to nutriet addition constraints resulting from available salts. For example, if the nutrient dosing solution (used to control the nutrient concentrations) is lacking $\\mathrm{Ca}$, either $\\mathrm{CaNO_3}$ or $\\mathrm{CaCl_2}$ must be added, since complexes with $\\mathrm{Mg}$ and $\\mathrm{PO_4}$ are insoluble. The dosing solution may then have too much $\\mathrm{NO_3}$ or $\\mathrm{Cl}$, causing accumulation. \n"
   ]
  },
  {
   "cell_type": "markdown",
   "metadata": {},
   "source": [
    "#### Furthermore, using standard Hoagland's solution (with nitrate as the sole nitrogen source), for example, causes a rise in pH, which requires acid dosing and hence the addition of another anion (like $\\mathrm{Cl^-}$, $\\mathrm{NO_3^-}$ or $\\mathrm{SO_4^-}$). Therefore, a calculation is required to compose a dosing solution which will dose nutirents and protons (acid) at the same rate at which the plants consume them, without the buildup of inetrs species like Na or Cl. The total nutrient concnetration and pH can then be simultaneously controlled (using EC) with perhaps only small additions of $\\mathrm{HCl}$ or $\\mathrm{NaOH}$ to account for errors in the dosing solution makeup (if the pH drifts). Note that a nutrient+acid dosing solution with the exact proportions of nutrients and protons may not be possible due to limited degrees of freedom (limited soluble salts) and hence an optimization algorithm is required rather than a root finding algorithm. This allows for a best-possible dosing solution makeup to be calculated"
   ]
  },
  {
   "cell_type": "markdown",
   "metadata": {},
   "source": [
    "#### Note that nutriet uptake is modeled with the co-absorption of protons (hence the rise in pH). Using the charge balance constraint, neglecting the micronutrients and assuming constant nutrient uptake ratios, the total number of protons absorbed can be estimated from the amounts of other nutreints absorbed:"
   ]
  },
  {
   "cell_type": "markdown",
   "metadata": {},
   "source": [
    "#### $$\\mathrm{H^+} = \\mathrm{NO_3^-} + 2\\mathrm{SO_4^{2-}} + \\mathrm{H_2PO_4^-} - \\mathrm{K^+} - 2\\mathrm{Ca^{2+}} - 2\\mathrm{Mg^{2+}}$$"
   ]
  },
  {
   "cell_type": "markdown",
   "metadata": {},
   "source": [
    "#### Defining the variables (nutrient salts, acids and bases), in mM"
   ]
  },
  {
   "cell_type": "markdown",
   "metadata": {},
   "source": [
    "###### $\\mathrm{C1 ~~~=~ KNO_3}$                       \n",
    "###### $\\mathrm{C2 ~~~=~ K_2SO_4}$                         \n",
    "###### $\\mathrm{C3 ~~~=~ KH_2SO_4}$              \n",
    "###### $\\mathrm{C4 ~~~=~ Mg(NO_3)_2\\bullet 6H_2O}$                \n",
    "###### $\\mathrm{C5 ~~~=~ MgSO_4\\bullet 7H_2O}$                \n",
    "###### $\\mathrm{C6 ~~~=~ Ca(NO_3)\\bullet 4H_2O}$                 \n",
    "###### $\\mathrm{C7 ~~~=~ 70~\\%~HNO_3}$                    \n",
    "###### $\\mathrm{C8 ~~~=~ 98~\\%~H_2SO_4}$         \n",
    "###### $\\mathrm{C9 ~~~=~ CaCl_2\\bullet 2H_2O}$              \n",
    "###### $\\mathrm{C10  ~=~ NaNO_3}$            \n",
    "###### $\\mathrm{C11  ~=~ KCl}$\n",
    "###### $\\mathrm{C12  ~=~ 37~\\%~HCl}$\n",
    "###### $\\mathrm{C13  ~=~ KOH}$\n",
    "###### $\\mathrm{C14  ~=~ Ca(OH)_2}$\n",
    "###### $\\mathrm{C15  ~=~ NaOH}$\n",
    "###### $\\mathrm{C16  ~=~ K_2HSO_4}$\n",
    "###### $\\mathrm{C17  ~=~ K_3PO_4}$\n",
    "###### $\\mathrm{C18  ~=~ 85~\\%~H_3PO_4}$\n",
    "###### $\\mathrm{C19  ~=~ NaCl}$\n",
    "\n"
   ]
  },
  {
   "cell_type": "markdown",
   "metadata": {},
   "source": [
    "#### Molar masses in g/mol (or in ml/mol where specified for liquids)"
   ]
  },
  {
   "cell_type": "code",
   "execution_count": 5,
   "metadata": {},
   "outputs": [],
   "source": [
    "MM1  = 101.1032           \n",
    "MM2  = 174.259               \n",
    "MM3  = 136.086              \n",
    "MM4  = 256.14             \n",
    "MM5  = 246.48             \n",
    "MM6  = 236.15             \n",
    "MM7  = 63.291     # ml/mol    \n",
    "MM8  = 54.348     # ml/mol    \n",
    "MM9  = 147.01                \n",
    "MM10 = 84.99              \n",
    "MM11 = 74.5513            \n",
    "MM12 = 1/0.012    # ml/mol  \n",
    "MM13 = 56.1               \n",
    "MM14 = 74.1               \n",
    "MM15 = 40                 \n",
    "MM16 = 174.2              \n",
    "MM17 = 212.27             \n",
    "MM18 = 1/0.0146   # ml/mol        \n",
    "MM19 = 58.44              "
   ]
  },
  {
   "cell_type": "markdown",
   "metadata": {},
   "source": [
    "#### Specifing the amounts of nutrients that should be in the dosing solution (proportional to the plant uptake rates), in mM"
   ]
  },
  {
   "cell_type": "code",
   "execution_count": 6,
   "metadata": {},
   "outputs": [],
   "source": [
    "N  = 100         #  Nitrogen\n",
    "K  = N*0.375     #  Potassium\n",
    "Ca = N*0.2       #  Calcium\n",
    "P  = N*0.075     #  Phosphate\n",
    "S  = N*0.1       #  Sulphate\n",
    "Mg = N*0.05      #  Magnesium\n",
    "H  = N*0.5       #  Protons\n",
    "Cl = N*0.05      #  Chlorine\n",
    "Na = 0           #  Sodium"
   ]
  },
  {
   "cell_type": "markdown",
   "metadata": {},
   "source": [
    "#### To help stabilize the optimization algorithm, zero overall charge can be ensured by adding additional $\\mathrm{Na^+}$ or $\\mathrm{Cl^-}$ (since the final solution will always be neutral):"
   ]
  },
  {
   "cell_type": "code",
   "execution_count": 7,
   "metadata": {},
   "outputs": [],
   "source": [
    "charge = -N + K + 2*Ca - P - 2*S + 2*Mg + H - Cl\n",
    "\n",
    "if charge > 0:      # add additional Cl\n",
    "    Cl += charge\n",
    "    Na = 0         \n",
    "elif charge < 0:    # add additional Na\n",
    "    Na = charge"
   ]
  },
  {
   "cell_type": "markdown",
   "metadata": {},
   "source": [
    "#### An optimization algoritm that minimizes the objective function is selected. scipy.optimize.minimize. The objective function can then simply be the added nutrients minus the specified nutrients. The value of the objective function will then be zero if the correct amount of nutrients has been added (minima). For example: Considering nitrogen only, if the objective function equals C1 + C6 - N (see previous cells). Minimization will yield the most-correct amounts of C1 and C6 to be added to the dosing solution."
   ]
  },
  {
   "cell_type": "code",
   "execution_count": 8,
   "metadata": {},
   "outputs": [],
   "source": [
    "def ObjectiveFunction(chem):\n",
    "    C1, C2, C3, C4, C5, C6, C7, C8, C9, C10, C11, C12, C13, C14, C15, C16, C17, C18, C19 = chem    # Nutrinet salts/acids/bases \n",
    "    \n",
    "    eq1 = abs(C1 + 2*C6 + 2*C4 + C10 + C7                               - N)                       #  N balance\n",
    "    eq2 = abs(C1 + C3 + 2*C2 + C11 + C13 + 2*C16 + 3*C17                - K)                       #  K balance\n",
    "    eq3 = abs(C6 + C9 + C14                                             - Ca)                      #  Ca balance\n",
    "    eq4 = abs(C3 + C16 + C17 + C18                                      - P)                       #  P balance\n",
    "    eq5 = abs(C5 + C2 + C8                                              - S)                       #  S balance\n",
    "    eq6 = abs(C5 + C4                                                   - Mg)                      #  Mg balance\n",
    "    eq7 = abs(C7 + C12 + 2*C8 - C13 - 2*C14 - C15 - C16 - 2*C17 + 2*C18 - H)                       #  H balance\n",
    "    eq8 = abs(2*C9 + C11 + C12 + C19                                    - Cl)                      #  Cl balance\n",
    "    eq9 = abs(C10 + C15 + C19                                           - Na)                      #  Na balance\n",
    "    \n",
    "    obj = eq1 + eq2 + eq3 + eq4 + eq5 + eq6 + eq7 + eq8 + eq9\n",
    "    \n",
    "    return obj"
   ]
  },
  {
   "cell_type": "markdown",
   "metadata": {},
   "source": [
    "#### Using scipy.optimize.minimize, the following cell simply defines some required inequality constraints (preventing negative values):"
   ]
  },
  {
   "cell_type": "code",
   "execution_count": 9,
   "metadata": {},
   "outputs": [],
   "source": [
    "def con1(chem):\n",
    "    return chem[0]\n",
    "def con2(chem):\n",
    "    return chem[1]\n",
    "def con3(chem):\n",
    "    return chem[2]\n",
    "def con4(chem):\n",
    "    return chem[3]\n",
    "def con5(chem):\n",
    "    return chem[4]\n",
    "def con6(chem):\n",
    "    return chem[5]\n",
    "def con7(chem):\n",
    "    return chem[6]\n",
    "def con8(chem):\n",
    "    return chem[7]\n",
    "def con9(chem):\n",
    "    return chem[8]\n",
    "def con10(chem):\n",
    "    return chem[9]\n",
    "def con11(chem):\n",
    "    return chem[10]\n",
    "def con12(chem):\n",
    "    return chem[11]\n",
    "def con13(chem):\n",
    "    return chem[12]\n",
    "def con14(chem):\n",
    "    return chem[13]\n",
    "def con15(chem):\n",
    "    return chem[14]\n",
    "def con16(chem):\n",
    "    return chem[15]\n",
    "def con17(chem):\n",
    "    return chem[16]\n",
    "def con18(chem):\n",
    "    return chem[17]\n",
    "def con19(chem):\n",
    "    return chem[18]\n",
    "\n",
    "cons1 =  {'type': 'ineq', 'fun': con1}\n",
    "cons2 =  {'type': 'ineq', 'fun': con2}\n",
    "cons3 =  {'type': 'ineq', 'fun': con3}\n",
    "cons4 =  {'type': 'ineq', 'fun': con4}\n",
    "cons5 =  {'type': 'ineq', 'fun': con5}\n",
    "cons6 =  {'type': 'ineq', 'fun': con6}\n",
    "cons7 =  {'type': 'ineq', 'fun': con7}\n",
    "cons8 =  {'type': 'ineq', 'fun': con8}\n",
    "cons9 =  {'type': 'ineq', 'fun': con9}\n",
    "cons10 = {'type': 'ineq', 'fun': con10}\n",
    "cons11 = {'type': 'ineq', 'fun': con11}\n",
    "cons12 = {'type': 'ineq', 'fun': con12}\n",
    "cons13 = {'type': 'ineq', 'fun': con13}\n",
    "cons14 = {'type': 'ineq', 'fun': con14}\n",
    "cons15 = {'type': 'ineq', 'fun': con15}\n",
    "cons16 = {'type': 'ineq', 'fun': con16}\n",
    "cons17 = {'type': 'ineq', 'fun': con17}\n",
    "cons18 = {'type': 'ineq', 'fun': con18}\n",
    "cons19 = {'type': 'ineq', 'fun': con19}"
   ]
  },
  {
   "cell_type": "markdown",
   "metadata": {},
   "source": [
    "#### Searching for minima in the objective function:"
   ]
  },
  {
   "cell_type": "code",
   "execution_count": 10,
   "metadata": {},
   "outputs": [
    {
     "name": "stdout",
     "output_type": "stream",
     "text": [
      "convergence:  True\n",
      "objective function value =  1.6e-05\n",
      "\n",
      "The dosing solution should contain:\n",
      "\n",
      "C1   KNO3   = 2.51   g / L\n",
      "C2   K2SO4  = 0.17   g / L\n",
      "C3   KH2PO4 = 0.79   g / L\n",
      "C4   MgNO3  = 1.24   g / L\n",
      "C5   MgSO4  = 0.04   g / L\n",
      "C6   CaNO3  = 4.33   g / L\n",
      "C7   HNO3   = 1.82  ml / L\n",
      "C8   H2SO4  = 0.48  ml / L\n",
      "C9   CaCl2  = 0.24   g / L\n",
      "C10  NaNO3  = 0.0   g / L\n",
      "C11  KCl    = 0.11   g / L\n",
      "C12  HCl    = 0.43  ml / L\n",
      "C13  KOH    = 0.0   g / L\n",
      "C14  CaOH   = 0.0   g / L\n",
      "C15  NaOH   = 0.0   g / L\n",
      "C16  K2HPO4 = 0.29   g / L\n",
      "C17  K3PO4  = 0.0   g / L\n",
      "C18  H3PO4  = 0.0  ml / L\n",
      "C19  NaCl   = 0.0   g / L\n",
      "\n",
      "C1   KNO3   = 24.87  mM\n",
      "C2   K2SO4  = 0.98  mM\n",
      "C3   KH2PO4 = 5.84  mM\n",
      "C4   MgNO3  = 4.82  mM\n",
      "C5   MgSO4  = 0.18  mM\n",
      "C6   CaNO3  = 18.33  mM\n",
      "C7   HNO3   = 28.81  mM\n",
      "C8   H2SO4  = 8.85  mM\n",
      "C9   CaCl2  = 1.65  mM\n",
      "C10  NaNO3  = 0.0  mM\n",
      "C11  KCl    = 1.48  mM\n",
      "C12  HCl    = 5.22  mM\n",
      "C13  KOH    = 0.0  mM\n",
      "C14  CaOH   = 0.02  mM\n",
      "C15  NaOH   = 0.0  mM\n",
      "C16  K2HPO4 = 1.65  mM\n",
      "C17  K3PO4  = 0.02  mM\n",
      "C18  H3PO4  = 0.0  mM\n",
      "C19  NaCl   = 0.0  mM\n",
      "\n",
      "N     100.0\n",
      "K     37.5\n",
      "Ca    20.0\n",
      "P     7.5\n",
      "S     10.0\n",
      "Mg    5.0\n",
      "H     50.0\n",
      "Cl    10.0\n",
      "Na    0.0\n"
     ]
    }
   ],
   "source": [
    "from scipy.optimize import minimize\n",
    "\n",
    "guess = [20, 0, 2, 0, 1, 10, 20, 0, 0, 0, 0, 0, 0, 0, 0, 0, 0, 0, 0]\n",
    "consts = (cons1, cons2, cons3, cons4, cons5, cons6, cons7, cons8, cons9, cons10,\\\n",
    "          cons11, cons12, cons13, cons14, cons15, cons16, cons17, cons18, cons19)\n",
    "\n",
    "\n",
    "f = minimize(ObjectiveFunction, guess, constraints=consts)\n",
    "\n",
    "\n",
    "out = f['x']\n",
    "for i in range(len(out)):\n",
    "    if out[i] <= 0:\n",
    "        out[i] = 0\n",
    "\n",
    "print('convergence: ', f['success'])\n",
    "print('objective function value = ', round(f['fun'], 6))\n",
    "print()\n",
    "print('The dosing solution should contain:')\n",
    "print()\n",
    "print('C1   KNO3   = {0}   g / L'.format(round(out[0] *MM1 /1000, 2)))\n",
    "print('C2   K2SO4  = {0}   g / L'.format(round(out[1] *MM2 /1000, 2)))\n",
    "print('C3   KH2PO4 = {0}   g / L'.format(round(out[2] *MM3 /1000, 2)))\n",
    "print('C4   MgNO3  = {0}   g / L'.format(round(out[3] *MM4 /1000, 2)))\n",
    "print('C5   MgSO4  = {0}   g / L'.format(round(out[4] *MM5 /1000, 2)))\n",
    "print('C6   CaNO3  = {0}   g / L'.format(round(out[5] *MM6 /1000, 2)))\n",
    "print('C7   HNO3   = {0}  ml / L'.format(round(out[6] *MM7 /1000, 2)))\n",
    "print('C8   H2SO4  = {0}  ml / L'.format(round(out[7] *MM8 /1000, 2)))\n",
    "print('C9   CaCl2  = {0}   g / L'.format(round(out[8] *MM9 /1000, 2)))\n",
    "print('C10  NaNO3  = {0}   g / L'.format(round(out[9] *MM10/1000, 2)))\n",
    "print('C11  KCl    = {0}   g / L'.format(round(out[10]*MM11/1000, 2)))\n",
    "print('C12  HCl    = {0}  ml / L'.format(round(out[11]*MM12/1000, 2))) \n",
    "print('C13  KOH    = {0}   g / L'.format(round(out[12]*MM13/1000, 2)))\n",
    "print('C14  CaOH   = {0}   g / L'.format(round(out[13]*MM14/1000, 2)))\n",
    "print('C15  NaOH   = {0}   g / L'.format(round(out[14]*MM15/1000, 2)))\n",
    "print('C16  K2HPO4 = {0}   g / L'.format(round(out[15]*MM16/1000, 2)))\n",
    "print('C17  K3PO4  = {0}   g / L'.format(round(out[16]*MM17/1000, 2)))\n",
    "print('C18  H3PO4  = {0}  ml / L'.format(round(out[17]*MM18/1000, 2)))\n",
    "print('C19  NaCl   = {0}   g / L'.format(round(out[18]*MM19/1000, 2)))\n",
    "\n",
    "print()\n",
    "print('C1   KNO3   = {0}  mM'.format(round(out[0] , 2)))\n",
    "print('C2   K2SO4  = {0}  mM'.format(round(out[1] , 2)))\n",
    "print('C3   KH2PO4 = {0}  mM'.format(round(out[2] , 2)))\n",
    "print('C4   MgNO3  = {0}  mM'.format(round(out[3] , 2)))\n",
    "print('C5   MgSO4  = {0}  mM'.format(round(out[4] , 2)))\n",
    "print('C6   CaNO3  = {0}  mM'.format(round(out[5] , 2)))\n",
    "print('C7   HNO3   = {0}  mM'.format(round(out[6] , 2)))\n",
    "print('C8   H2SO4  = {0}  mM'.format(round(out[7] , 2)))\n",
    "print('C9   CaCl2  = {0}  mM'.format(round(out[8] , 2)))\n",
    "print('C10  NaNO3  = {0}  mM'.format(round(out[9] , 2)))\n",
    "print('C11  KCl    = {0}  mM'.format(round(out[10], 2)))\n",
    "print('C12  HCl    = {0}  mM'.format(round(out[11], 2))) \n",
    "print('C13  KOH    = {0}  mM'.format(round(out[12], 2)))\n",
    "print('C14  CaOH   = {0}  mM'.format(round(out[13], 2)))\n",
    "print('C15  NaOH   = {0}  mM'.format(round(out[14], 2)))\n",
    "print('C16  K2HPO4 = {0}  mM'.format(round(out[15], 2)))\n",
    "print('C17  K3PO4  = {0}  mM'.format(round(out[16], 2)))\n",
    "print('C18  H3PO4  = {0}  mM'.format(round(out[17], 2)))\n",
    "print('C19  NaCl   = {0}  mM'.format(round(out[18], 2)))\n",
    "\n",
    "C1, C2, C3, C4, C5, C6, C7, C8, C9, C10, C11, C12, C13, C14, C15, C16, C17, C18, C19 = out\n",
    "eq1 = abs(C1 + 2*C6 + 2*C4 + C10 + C7)                                                     #  N balance\n",
    "eq2 = abs(C1 + C3 + 2*C2 + C11 + C13 + 2*C16 + 3*C17)                                      #  K balance\n",
    "eq3 = abs(C6 + C9 + C14)                                                                   #  Ca balance\n",
    "eq4 = abs(C3 + C16 + C17 + C18)                                                            #  P balance\n",
    "eq5 = abs(C5 + C2 + C8)                                                                    #  S balance\n",
    "eq6 = abs(C5 + C4)                                                                         #  Mg balance\n",
    "eq7 = abs(C7 + C12 + 2*C8 - C13 - 2*C14 - C15 - C16 - 2*C17 + 2*C18)                       #  H balance\n",
    "eq8 = abs(2*C9 + C11 + C12 + C19)                                                          #  Cl balance\n",
    "eq9 = abs(C10 + C15 + C19)                                                                 #  Na balance\n",
    "\n",
    "print()\n",
    "print('N     {0}'.format(round(eq1, 3)))\n",
    "print('K     {0}'.format(round(eq2, 3)))\n",
    "print('Ca    {0}'.format(round(eq3, 3)))\n",
    "print('P     {0}'.format(round(eq4, 3)))\n",
    "print('S     {0}'.format(round(eq5, 3)))\n",
    "print('Mg    {0}'.format(round(eq6, 3)))\n",
    "print('H     {0}'.format(round(eq7, 3)))\n",
    "print('Cl    {0}'.format(round(eq8, 3)))\n",
    "print('Na    {0}'.format(round(eq9, 3)))"
   ]
  },
  {
   "cell_type": "code",
   "execution_count": null,
   "metadata": {},
   "outputs": [],
   "source": []
  },
  {
   "cell_type": "code",
   "execution_count": null,
   "metadata": {},
   "outputs": [],
   "source": []
  },
  {
   "cell_type": "code",
   "execution_count": null,
   "metadata": {},
   "outputs": [],
   "source": []
  },
  {
   "cell_type": "code",
   "execution_count": null,
   "metadata": {},
   "outputs": [],
   "source": []
  },
  {
   "cell_type": "code",
   "execution_count": null,
   "metadata": {},
   "outputs": [],
   "source": []
  },
  {
   "cell_type": "code",
   "execution_count": null,
   "metadata": {},
   "outputs": [],
   "source": []
  }
 ],
 "metadata": {
  "kernelspec": {
   "display_name": "Python 3 (ipykernel)",
   "language": "python",
   "name": "python3"
  },
  "language_info": {
   "codemirror_mode": {
    "name": "ipython",
    "version": 3
   },
   "file_extension": ".py",
   "mimetype": "text/x-python",
   "name": "python",
   "nbconvert_exporter": "python",
   "pygments_lexer": "ipython3",
   "version": "3.9.12"
  }
 },
 "nbformat": 4,
 "nbformat_minor": 4
}
